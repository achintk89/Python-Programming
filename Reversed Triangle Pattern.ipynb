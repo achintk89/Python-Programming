{
 "cells": [
  {
   "cell_type": "code",
   "execution_count": 11,
   "metadata": {},
   "outputs": [
    {
     "name": "stdout",
     "output_type": "stream",
     "text": [
      "4\n",
      "   *\n",
      "  **\n",
      " ***\n",
      "****\n"
     ]
    }
   ],
   "source": [
    "n= int(input())\n",
    "\n",
    "i=1\n",
    "\n",
    "while i<=n:\n",
    "    \n",
    "    Spaces=1\n",
    "    while Spaces<=n-i:\n",
    "        print(' ',end=\"\")\n",
    "        Spaces=Spaces+1\n",
    "    Stars=1\n",
    "    while Stars<=i:\n",
    "        print('*',end=\"\")\n",
    "        Stars=Stars+1\n",
    "    i=i+1\n",
    "    print()\n"
   ]
  }
 ],
 "metadata": {
  "kernelspec": {
   "display_name": "Python 3",
   "language": "python",
   "name": "python3"
  },
  "language_info": {
   "codemirror_mode": {
    "name": "ipython",
    "version": 3
   },
   "file_extension": ".py",
   "mimetype": "text/x-python",
   "name": "python",
   "nbconvert_exporter": "python",
   "pygments_lexer": "ipython3",
   "version": "3.7.3"
  }
 },
 "nbformat": 4,
 "nbformat_minor": 2
}
