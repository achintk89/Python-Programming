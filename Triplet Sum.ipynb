{
 "cells": [
  {
   "cell_type": "code",
   "execution_count": 1,
   "metadata": {},
   "outputs": [
    {
     "name": "stdout",
     "output_type": "stream",
     "text": [
      "7\n",
      "1 2 3 4 5 6 7\n",
      "12\n",
      "1 4 7\n",
      "1 5 6\n",
      "2 3 7\n",
      "2 4 6\n",
      "3 4 5\n"
     ]
    }
   ],
   "source": [
    "def find3Numbers(A, sum):\n",
    "    A.sort()\n",
    "    for i in range( 0, n):\n",
    "        for j in range(i + 1, n):\n",
    "            for k in range(j + 1, n):\n",
    "                if A[i] + A[j] + A[k] == sum:\n",
    "                    print( A[i],A[j],A[k])\n",
    "\n",
    "n=int(input())\n",
    "A = [int(x) for x in input().split()]\n",
    "sum = int(input())\n",
    "find3Numbers(A, sum)"
   ]
  }
 ],
 "metadata": {
  "kernelspec": {
   "display_name": "Python 3",
   "language": "python",
   "name": "python3"
  },
  "language_info": {
   "codemirror_mode": {
    "name": "ipython",
    "version": 3
   },
   "file_extension": ".py",
   "mimetype": "text/x-python",
   "name": "python",
   "nbconvert_exporter": "python",
   "pygments_lexer": "ipython3",
   "version": "3.7.3"
  }
 },
 "nbformat": 4,
 "nbformat_minor": 2
}
