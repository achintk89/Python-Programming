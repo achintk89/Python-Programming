{
 "cells": [
  {
   "cell_type": "code",
   "execution_count": null,
   "metadata": {},
   "outputs": [],
   "source": [
    "####First Method "
   ]
  },
  {
   "cell_type": "code",
   "execution_count": 6,
   "metadata": {},
   "outputs": [
    {
     "name": "stdout",
     "output_type": "stream",
     "text": [
      "7\n",
      "1 2 3 4 5 6 7\n",
      "9\n",
      "-1\n"
     ]
    }
   ],
   "source": [
    "## Read input as specified in the question.\n",
    "## Print output as specified in the question.\n",
    "n=int(input())\n",
    "\n",
    "li=[int(x) for x in input().split()]\n",
    "x=int(input())\n",
    "isFound=False\n",
    "for i in range(len(li)):\n",
    "    if li[i]==x:\n",
    "        print(i)\n",
    "        isFound=True\n",
    "        break\n",
    "if isFound is False:\n",
    "    print(-1)\n",
    "        "
   ]
  },
  {
   "cell_type": "code",
   "execution_count": null,
   "metadata": {},
   "outputs": [],
   "source": [
    "###Second Method"
   ]
  },
  {
   "cell_type": "code",
   "execution_count": 1,
   "metadata": {},
   "outputs": [
    {
     "name": "stdout",
     "output_type": "stream",
     "text": [
      "7\n",
      "1 3 7 9 11 12 45 \n",
      "3\n",
      "1\n"
     ]
    }
   ],
   "source": [
    "## Read input as specified in the question.\n",
    "## Print output as specified in the question.\n",
    "\n",
    "def binarysearch(arr,ele):\n",
    "    start=0\n",
    "    end=len(arr)-1\n",
    "    while (start<=end):\n",
    "        mid=(start + end)//2\n",
    "        if (arr[mid]==ele):\n",
    "            return mid\n",
    "        elif (arr[mid]<ele):\n",
    "            start= mid+1\n",
    "        else:\n",
    "            end=mid-1\n",
    "    return -1\n",
    "n=int(input())\n",
    "arr=[int(x) for x in input().split()]\n",
    "ele=int(input())\n",
    "index= binarysearch(arr,ele)\n",
    "print(index)"
   ]
  }
 ],
 "metadata": {
  "kernelspec": {
   "display_name": "Python 3",
   "language": "python",
   "name": "python3"
  },
  "language_info": {
   "codemirror_mode": {
    "name": "ipython",
    "version": 3
   },
   "file_extension": ".py",
   "mimetype": "text/x-python",
   "name": "python",
   "nbconvert_exporter": "python",
   "pygments_lexer": "ipython3",
   "version": "3.7.3"
  }
 },
 "nbformat": 4,
 "nbformat_minor": 2
}
