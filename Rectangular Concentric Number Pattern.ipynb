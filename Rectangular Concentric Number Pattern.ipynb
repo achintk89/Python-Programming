{
 "cells": [
  {
   "cell_type": "code",
   "execution_count": 9,
   "metadata": {},
   "outputs": [
    {
     "name": "stdout",
     "output_type": "stream",
     "text": [
      "4\n",
      "4444444\n",
      "4333334\n",
      "4322234\n",
      "4321234\n",
      "4322234\n",
      "4333334\n",
      "4444444\n"
     ]
    }
   ],
   "source": [
    "\n",
    "\n",
    "def printPattern(n) : \n",
    "\n",
    "\t\n",
    "\ts = 2 * n - 1\n",
    "\n",
    "\t\n",
    "\tfor i in range(0, int(s / 2) + 1): \n",
    "\t\t\n",
    "\t\tm = n \n",
    "\n",
    "\t\t\n",
    "\t\tfor j in range(0, i): \n",
    "\t\t\tprint(m ,end= \"\" ) \n",
    "\t\t\tm-=1\n",
    "\t\t\n",
    "\t\t\n",
    "\t\tfor k in range(0, s - 2 * i): \n",
    "\t\t\tprint(n-i ,end= \"\" ) \n",
    "\t\t\n",
    "\t\t\n",
    "\t\tm = n - i + 1\n",
    "\t\tfor l in range(0, i): \n",
    "\t\t\tprint(m ,end= \"\" ) \n",
    "\t\t\tm+=1\n",
    "\t\t\n",
    "\t\tprint(\"\") \n",
    "\t\n",
    "\t\n",
    "\tfor i in range(int(s / 2)-1,-1,-1,): \n",
    "\n",
    "\t\t\n",
    "\t\tm = n \n",
    "\t\tfor j in range(0, i): \n",
    "\t\t\tprint(m ,end= \"\" ) \n",
    "\t\t\tm-=1\n",
    "\t\t\n",
    "\n",
    "\t\t \n",
    "\t\tfor k in range(0, s - 2 * i): \n",
    "\t\t\tprint(n-i ,end= \"\" ) \n",
    "\t\t\n",
    "\n",
    "\t\t\n",
    "\t\tm = n - i + 1\n",
    "\t\tfor l in range(0, i): \n",
    "\t\t\tprint(m ,end= \"\" ) \n",
    "\t\t\tm+=1\n",
    "\t\t\n",
    "\t\tprint(\"\") \n",
    "\t\n",
    " \n",
    "if __name__=='__main__': \n",
    "\tn = int(input())\n",
    "\tprintPattern(n) \n",
    "\n"
   ]
  }
 ],
 "metadata": {
  "kernelspec": {
   "display_name": "Python 3",
   "language": "python",
   "name": "python3"
  },
  "language_info": {
   "codemirror_mode": {
    "name": "ipython",
    "version": 3
   },
   "file_extension": ".py",
   "mimetype": "text/x-python",
   "name": "python",
   "nbconvert_exporter": "python",
   "pygments_lexer": "ipython3",
   "version": "3.7.3"
  }
 },
 "nbformat": 4,
 "nbformat_minor": 2
}
