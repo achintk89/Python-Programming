{
 "cells": [
  {
   "cell_type": "code",
   "execution_count": 3,
   "metadata": {},
   "outputs": [
    {
     "name": "stdout",
     "output_type": "stream",
     "text": [
      "2\n",
      "AB\n",
      "BC\n"
     ]
    }
   ],
   "source": [
    "n= int(input())\n",
    "i=1\n",
    "while i<=n:\n",
    "    j=1\n",
    "    Start_Char = chr(ord(\"A\")+i-1)\n",
    "    while j<=n:\n",
    "        CharP = chr(ord(Start_Char)+j-1)\n",
    "        print (CharP, end=\"\")\n",
    "        j=j+1\n",
    "    print()    \n",
    "    i=i+1"
   ]
  }
 ],
 "metadata": {
  "kernelspec": {
   "display_name": "Python 3",
   "language": "python",
   "name": "python3"
  },
  "language_info": {
   "codemirror_mode": {
    "name": "ipython",
    "version": 3
   },
   "file_extension": ".py",
   "mimetype": "text/x-python",
   "name": "python",
   "nbconvert_exporter": "python",
   "pygments_lexer": "ipython3",
   "version": "3.7.3"
  }
 },
 "nbformat": 4,
 "nbformat_minor": 2
}
