{
 "cells": [
  {
   "cell_type": "code",
   "execution_count": 1,
   "metadata": {},
   "outputs": [
    {
     "name": "stdout",
     "output_type": "stream",
     "text": [
      "52\n",
      "2  5\n"
     ]
    }
   ],
   "source": [
    "N = int(input())\n",
    "\n",
    "sum_even=0\n",
    "sum_odd=0\n",
    "\n",
    "while N>0:\n",
    "    \n",
    "    r = N % 10\n",
    "    if r%2 == 0:\n",
    "        sum_even+=r\n",
    "    else:\n",
    "        sum_odd+=r\n",
    "    N=N//10\n",
    "    \n",
    "    \n",
    "print(sum_even,\"\",sum_odd)"
   ]
  }
 ],
 "metadata": {
  "kernelspec": {
   "display_name": "Python 3",
   "language": "python",
   "name": "python3"
  },
  "language_info": {
   "codemirror_mode": {
    "name": "ipython",
    "version": 3
   },
   "file_extension": ".py",
   "mimetype": "text/x-python",
   "name": "python",
   "nbconvert_exporter": "python",
   "pygments_lexer": "ipython3",
   "version": "3.7.3"
  }
 },
 "nbformat": 4,
 "nbformat_minor": 2
}
