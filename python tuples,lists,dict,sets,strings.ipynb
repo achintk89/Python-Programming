{
 "cells": [
  {
   "cell_type": "code",
   "execution_count": 5,
   "metadata": {},
   "outputs": [
    {
     "name": "stdout",
     "output_type": "stream",
     "text": [
      "enter number a:10\n",
      "Enter number b:2\n",
      "<class 'str'>\n"
     ]
    }
   ],
   "source": [
    "a = int(input('enter number a:'))\n",
    "b = int(input('Enter number b:'))\n",
    "print((a+b))\n",
    "print(a*b)\n",
    "print(a-b)\n",
    "print(a%b)\n",
    "print(a**b)\n",
    "print(a/b)"
   ]
  },
  {
   "cell_type": "code",
   "execution_count": 8,
   "metadata": {},
   "outputs": [
    {
     "name": "stdout",
     "output_type": "stream",
     "text": [
      "0 (-10-6j) -100\n",
      "6.8580000000000005 3.0 (10-3j)\n"
     ]
    }
   ],
   "source": [
    "a = 10\n",
    "b= -10\n",
    "c = 3.142\n",
    "d = 0.142\n",
    "e = 10 + 3j\n",
    "f = 6j\n",
    "print (a + b, b - f, a * b, end='\\n')\n",
    "print(a - c, c - d, e - f, end='\\n')"
   ]
  },
  {
   "cell_type": "code",
   "execution_count": 19,
   "metadata": {},
   "outputs": [
    {
     "name": "stdout",
     "output_type": "stream",
     "text": [
      "('e', 'd', 'u', 'r', 'e', 'k', 'a')\n",
      "{'e', 'd', 'u', 'a', 'k', 'r'}\n",
      "['e', 'd', 'u', 'r', 'e', 'k', 'a']\n"
     ]
    }
   ],
   "source": [
    "s = 'edureka'\n",
    "c = tuple(s)\n",
    "print(c)\n",
    "c = set(s)\n",
    "print(c)\n",
    "c = list(s)\n",
    "print(c)"
   ]
  },
  {
   "cell_type": "code",
   "execution_count": 64,
   "metadata": {},
   "outputs": [
    {
     "name": "stdout",
     "output_type": "stream",
     "text": [
      "[1, 2, 3, 'edukera', 'python', [0, 55]]\n",
      "[4, 5, 3.142, 'fun', 'cool', 55, 55]\n",
      "[1, 'example', 2, 3, 'edukera', 'python', [0, 55]]\n",
      "[1, 'example', 2, 3, 'edukera', 'python', [0, 55], 1, 'example', 2, 3, 'edukera', 'python', [0, 55]]\n",
      "[1, 'example', 2, 3, 'edukera', 'python', [0, 55]]\n",
      "[1, 2, 3, 'edukera', 'python', [0, 55]]\n",
      "[2, 3, 'edukera', 'python', [0, 55]]\n",
      "[2, 3, 'python', [0, 55]]\n"
     ]
    }
   ],
   "source": [
    "a=[1,2,3,'edukera','python']\n",
    "\n",
    "a2= list([4,5,3.142,'fun','cool'])\n",
    "\n",
    "\n",
    "a.append([0, 55])\n",
    "print(a)\n",
    "a2.extend([55, 55])\n",
    "print(a2)\n",
    "a.insert(1,'example')\n",
    "print(a)\n",
    "print(a*2)\n",
    "print(a)\n",
    "del a[1]\n",
    "print(a)\n",
    "a.remove(1)\n",
    "print(a)\n",
    "a.pop(2)\n",
    "print(a)"
   ]
  },
  {
   "cell_type": "code",
   "execution_count": 11,
   "metadata": {},
   "outputs": [
    {
     "name": "stdout",
     "output_type": "stream",
     "text": [
      "7\n",
      "3\n",
      "1\n",
      "[1, 2, 3, 4, 4, 5, 6]\n",
      "[1, 3, 2, 5, 6, 4, 4]\n",
      "[6, 5, 4, 4, 3, 2, 1]\n",
      "[1, 2, 3, 4, 4, 5, 6]\n",
      "[6, 5, 4, 4, 3, 2, 1]\n",
      "[6, 5, 4, 4, 3, 2, 1]\n"
     ]
    }
   ],
   "source": [
    "###LISTS\n",
    "a=[1,3,2,5,6,4]\n",
    "print(len(a))\n",
    "print(a.index(5))\n",
    "print(a.count(2))\n",
    "print(sorted(a))\n",
    "print(a)\n",
    "a.sort(reverse=True)\n",
    "print(a)\n",
    "a.sort(reverse=False)\n",
    "print(a)\n",
    "a.reverse()\n",
    "print(a)\n",
    "b=a.copy()\n",
    "print(b)"
   ]
  },
  {
   "cell_type": "code",
   "execution_count": 13,
   "metadata": {},
   "outputs": [
    {
     "name": "stdout",
     "output_type": "stream",
     "text": [
      "7\n",
      "(1, 2, 3, 4, 5, 6, 4)\n",
      "(1, 2, 3, ['python', 'c++'], 'java')\n",
      "<class 'tuple'>\n",
      "(1, 2, 3, 4, 5, 6, 4)\n",
      "3\n",
      "(1, 3)\n",
      "(1, 2, 3, ['php', 'c++'], 'java')\n"
     ]
    }
   ],
   "source": [
    "###Tuples\n",
    "a=(1,2,3,4,5,6)\n",
    "a2=tuple((1,2,3,['python','c++'],'java'))\n",
    "print(len(a))\n",
    "print(a)\n",
    "print(a2)\n",
    "a3 = 'example',\n",
    "print(type(a3))\n",
    "print(a[:])\n",
    "print(a[2])\n",
    "print(a[0:4:2])\n",
    "a2[3][0]= 'php'\n",
    "print(a2)"
   ]
  },
  {
   "cell_type": "code",
   "execution_count": 16,
   "metadata": {},
   "outputs": [
    {
     "name": "stdout",
     "output_type": "stream",
     "text": [
      "2\n",
      "asb\n",
      "(1, 'python')\n",
      "{1: 'c++'}\n"
     ]
    }
   ],
   "source": [
    "####Dictionaries\n",
    "a={1: 'python',2: 'java'}\n",
    "print(len(a))\n",
    "b=a.pop(2)\n",
    "print(b)\n",
    "c=a.popitem()\n",
    "print(c)\n",
    "a[1]= 'c++'\n",
    "print(a)"
   ]
  },
  {
   "cell_type": "code",
   "execution_count": 8,
   "metadata": {},
   "outputs": [
    {
     "name": "stdout",
     "output_type": "stream",
     "text": [
      "5\n",
      "{1, 2, 3, 4, 5, 6}\n",
      "{1, 2, 3, 4, 5, 6, 8} {1, 2, 3, 4, 5, 6, 8}\n",
      "{2, 4, 5, 6} {2, 4, 5, 6}\n",
      "{1, 3} {1, 3}\n",
      "{1, 3, 8} {1, 3, 8}\n",
      "False\n",
      "True\n",
      "False\n",
      "False\n",
      "False\n",
      "False\n",
      "6\n"
     ]
    }
   ],
   "source": [
    "###Sets\n",
    "a={1,2,3,5,6,6}\n",
    "a2={5,6,2,8,4}\n",
    "print(a)\n",
    "a.add(4)\n",
    "print(a)\n",
    "print(a.union(a2),                     a | a2)\n",
    "print(a.intersection(a2),a & a2)\n",
    "print(a.difference(a2), a-a2)\n",
    "print(a.symmetric_difference(a2), a^a2)\n",
    "print(a==a2)\n",
    "print(a!=a2)\n",
    "print(a<=a2)\n",
    "print(a<a2)\n",
    "print(a>=a2)\n",
    "print(a>a2)\n",
    "print(len(a))\n",
    "a.add(4)\n",
    "print(len(a))"
   ]
  },
  {
   "cell_type": "code",
   "execution_count": 107,
   "metadata": {},
   "outputs": [
    {
     "name": "stdout",
     "output_type": "stream",
     "text": [
      "welcome to the tutorial\n",
      "welcome to the tutorial\n",
      "lcome \n",
      "welc\n",
      "wlo\n",
      "lairotut eht ot emoclew\n",
      "utoria\n",
      "23\n",
      "4\n",
      "welcome to the tutorial\n",
      "WELCOME TO THE TUTORIAL\n",
      "2\n",
      "('welcome ', 'to', ' the tutorial')\n",
      "['welcome', 'to', 'the', 'tutorial']\n",
      "hello, welcome to the tutorial\n"
     ]
    }
   ],
   "source": [
    "####Strings\n",
    "a = 'welcome to the tutorial'\n",
    "a2 = 'This is my string'\n",
    "print(a)\n",
    "print(a[:])\n",
    "print(a[2:8])\n",
    "print(a[0:4:1])\n",
    "print(a[0:5:2])\n",
    "print(a[::-1])\n",
    "print(a[-7:-1])\n",
    "print(len(a))\n",
    "print(a.count('t'))\n",
    "print(a.lower())\n",
    "print(a.upper())\n",
    "print(a.find('l'))\n",
    "print(a.partition('to'))\n",
    "print(a.split(' '))\n",
    "print(a.replace('welcome', 'hello, welcome'))\n",
    "\n"
   ]
  },
  {
   "cell_type": "code",
   "execution_count": 10,
   "metadata": {},
   "outputs": [
    {
     "name": "stdout",
     "output_type": "stream",
     "text": [
      "2\n"
     ]
    }
   ],
   "source": [
    "s = {}\n",
    "s.add(4)\n",
    "s.add(4)\n",
    "print(len(s))"
   ]
  },
  {
   "cell_type": "code",
   "execution_count": null,
   "metadata": {},
   "outputs": [],
   "source": [
    "i=4\n",
    "d=4.0\n",
    "s='HackerRank'\n",
    "a=int(input())\n",
    "b=float(input())\n",
    "c=str(input())\n",
    "print(a+i ,\"\\n\")\n",
    "print(b+d ,\"\\n\")\n",
    "print(c+s ,\"\\n\")"
   ]
  }
 ],
 "metadata": {
  "kernelspec": {
   "display_name": "Python 3",
   "language": "python",
   "name": "python3"
  },
  "language_info": {
   "codemirror_mode": {
    "name": "ipython",
    "version": 3
   },
   "file_extension": ".py",
   "mimetype": "text/x-python",
   "name": "python",
   "nbconvert_exporter": "python",
   "pygments_lexer": "ipython3",
   "version": "3.7.3"
  }
 },
 "nbformat": 4,
 "nbformat_minor": 2
}
