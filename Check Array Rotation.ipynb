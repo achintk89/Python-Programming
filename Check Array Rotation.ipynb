{
 "cells": [
  {
   "cell_type": "code",
   "execution_count": 3,
   "metadata": {},
   "outputs": [
    {
     "name": "stdout",
     "output_type": "stream",
     "text": [
      "6\n",
      "5 6 1 2 3 4\n",
      "2\n"
     ]
    }
   ],
   "source": [
    "def countRotations(arr, n): \n",
    "\n",
    "\tmin = arr[0] \n",
    "\tfor i in range(0, n): \n",
    "\t\n",
    "\t\tif (min > arr[i]): \n",
    "\t\t\n",
    "\t\t\tmin = arr[i] \n",
    "\t\t\tmin_index = i \n",
    "\t\t\n",
    "\treturn min_index; \n",
    "\n",
    "\n",
    "n = int(input()) \n",
    "arr = [int(x) for x in input().split()] \n",
    "print(countRotations(arr, n)) "
   ]
  }
 ],
 "metadata": {
  "kernelspec": {
   "display_name": "Python 3",
   "language": "python",
   "name": "python3"
  }
 },
 "nbformat": 4,
 "nbformat_minor": 2
}
