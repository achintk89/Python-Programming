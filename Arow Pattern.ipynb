{
 "cells": [
  {
   "cell_type": "code",
   "execution_count": 2,
   "metadata": {},
   "outputs": [],
   "source": [
    "###Arrow Pattern Usin While Loop"
   ]
  },
  {
   "cell_type": "code",
   "execution_count": null,
   "metadata": {},
   "outputs": [],
   "source": [
    "n=int(input())\n",
    "n1=(n+1)/2\n",
    "n2=int(n/2)\n",
    "i=1\n",
    "while i<=n1:\n",
    "    spaces=1\n",
    "    while spaces<=(i-1):\n",
    "        print(\" \",end=\"\")\n",
    "        spaces=spaces+1\n",
    "    j=1\n",
    "    while j<=i:\n",
    "        print(\"* \", end=\"\")\n",
    "        j=j+1\n",
    "    print()\n",
    "    i=i+1\n",
    "\n",
    "k=1\n",
    "while k<=n2:\n",
    "    spaces=n2-k\n",
    "    while spaces>0:\n",
    "        print(\" \",end=\"\")\n",
    "        spaces=spaces-1\n",
    "    l=n2-k+1\n",
    "    while l>0:\n",
    "        print(\"* \",end=\"\")\n",
    "        l=l-1\n",
    "    print()\n",
    "    k=k+1   "
   ]
  },
  {
   "cell_type": "code",
   "execution_count": null,
   "metadata": {},
   "outputs": [],
   "source": [
    "###Arrow Pattern Using For Loop"
   ]
  },
  {
   "cell_type": "code",
   "execution_count": null,
   "metadata": {},
   "outputs": [],
   "source": [
    "n=int(input())\n",
    "n1=int((n+1)/2)\n",
    "n2=int(n/2)\n",
    "\n",
    "for i in range(1,n1+1,1):\n",
    "    for spaces in range(1,i,1):\n",
    "        print(\" \",end=\"\")\n",
    "    for j in range(1,i+1,1):\n",
    "        print(\"* \", end=\"\")\n",
    "    print()\n",
    "\n",
    "    \n",
    "k=1\n",
    "while k<=n2:\n",
    "    spaces=n2-k\n",
    "    while spaces>0:\n",
    "        print(\" \",end=\"\")\n",
    "        spaces=spaces-1\n",
    "    l=n2-k+1\n",
    "    while l>0:\n",
    "        print(\"* \",end=\"\")\n",
    "        l=l-1\n",
    "    print()\n",
    "    k=k+1   "
   ]
  }
 ],
 "metadata": {
  "kernelspec": {
   "display_name": "Python 3",
   "language": "python",
   "name": "python3"
  },
  "language_info": {
   "codemirror_mode": {
    "name": "ipython",
    "version": 3
   },
   "file_extension": ".py",
   "mimetype": "text/x-python",
   "name": "python",
   "nbconvert_exporter": "python",
   "pygments_lexer": "ipython3",
   "version": "3.7.3"
  }
 },
 "nbformat": 4,
 "nbformat_minor": 2
}
