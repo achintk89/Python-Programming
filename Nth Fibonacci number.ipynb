{
 "cells": [
  {
   "cell_type": "code",
   "execution_count": null,
   "metadata": {},
   "outputs": [],
   "source": [
    "###Firt Method"
   ]
  },
  {
   "cell_type": "code",
   "execution_count": 4,
   "metadata": {},
   "outputs": [
    {
     "name": "stdout",
     "output_type": "stream",
     "text": [
      "4\n",
      "3\n"
     ]
    }
   ],
   "source": [
    "# Fibonacci\n",
    "def fibonacci(n):\n",
    "  fib = [0] * (n + 1)\n",
    "  fib[0] = 0\n",
    "  fib[1] = 1\n",
    "  for i in range(2, n + 1):\n",
    "    fib[i] = fib[i - 1] + fib[i - 2]\n",
    "  return fib[n]\n",
    "n = int(input())\n",
    "ans = fibonacci(n)\n",
    "print (ans)"
   ]
  },
  {
   "cell_type": "code",
   "execution_count": null,
   "metadata": {},
   "outputs": [],
   "source": [
    "### Second Method Check Number "
   ]
  },
  {
   "cell_type": "code",
   "execution_count": 6,
   "metadata": {},
   "outputs": [
    {
     "name": "stdout",
     "output_type": "stream",
     "text": [
      "3\n",
      "true\n"
     ]
    }
   ],
   "source": [
    "def checkMember(n): \n",
    "    if(n==0 or n==1 or n==2): \n",
    "        return True \n",
    "    a=0 \n",
    "    b=1 \n",
    "    while(b<n): \n",
    "        c=a+b \n",
    "        a=b \n",
    "        b=c \n",
    "    if(b==n):\n",
    "        return True \n",
    "    else:\n",
    "        return False \n",
    "n=int(input()) \n",
    "if(checkMember(n)): \n",
    "    print(\"true\") \n",
    "else:\n",
    "    print(\"false\")"
   ]
  }
 ],
 "metadata": {
  "kernelspec": {
   "display_name": "Python 3",
   "language": "python",
   "name": "python3"
  },
  "language_info": {
   "codemirror_mode": {
    "name": "ipython",
    "version": 3
   },
   "file_extension": ".py",
   "mimetype": "text/x-python",
   "name": "python",
   "nbconvert_exporter": "python",
   "pygments_lexer": "ipython3",
   "version": "3.7.3"
  }
 },
 "nbformat": 4,
 "nbformat_minor": 2
}
