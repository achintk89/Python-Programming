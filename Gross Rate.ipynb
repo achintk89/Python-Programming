{
 "cells": [
  {
   "cell_type": "code",
   "execution_count": 9,
   "metadata": {},
   "outputs": [
    {
     "name": "stdout",
     "output_type": "stream",
     "text": [
      "Enter Hours: 40\n",
      "Enter Rate: 1.5\n",
      "Pay: 60.0\n"
     ]
    }
   ],
   "source": [
    "hours = float(input('Enter Hours: '))\n",
    "rate = float(input('Enter Rate: '))\n",
    "pay = hours * rate\n",
    "print (\"Pay: \" + str(pay))\n"
   ]
  },
  {
   "cell_type": "code",
   "execution_count": 7,
   "metadata": {
    "scrolled": true
   },
   "outputs": [
    {
     "name": "stdout",
     "output_type": "stream",
     "text": [
      "Enter Hours:45\n",
      "enter rate10.50\n",
      "498.75\n"
     ]
    }
   ],
   "source": [
    "hrs = input(\"Enter Hours:\")\n",
    "h = float(hrs)\n",
    "rate = float(input(\"enter rate\"))\n",
    "\n",
    "if h <=40:\n",
    "   pay = h * rate\n",
    "elif h > 40:\n",
    "   pay = 40* rate + (h-40)*1.5*rate\n",
    "else: \n",
    "   print ('wrong parameter')\n",
    "    \n",
    "    \n",
    "print (pay)"
   ]
  },
  {
   "cell_type": "code",
   "execution_count": 20,
   "metadata": {},
   "outputs": [
    {
     "name": "stdout",
     "output_type": "stream",
     "text": [
      "Enter Hours:45\n",
      "Enter Rate:10.50\n",
      "498.75\n"
     ]
    }
   ],
   "source": [
    "def computepay(h,r):\n",
    "    hrs = input(\"Enter Hours:\")\n",
    "    h = float(hrs)\n",
    "    rate = input(\"Enter Rate:\")\n",
    "    r = float(rate)\n",
    "    pay = (h * r)\n",
    "    if h <= 40 :\n",
    "        return(pay)\n",
    "    else :\n",
    "        ovrhrs = (h-40)\n",
    "        regular = (r*40)\n",
    "        othrs = ovrhrs * (r *1.5)\n",
    "        ovrpay = (regular + othrs)\n",
    "        return(ovrpay)\n",
    "\n",
    "print(computepay(45,10.5))"
   ]
  }
 ],
 "metadata": {
  "kernelspec": {
   "display_name": "Python 3",
   "language": "python",
   "name": "python3"
  },
  "language_info": {
   "codemirror_mode": {
    "name": "ipython",
    "version": 3
   },
   "file_extension": ".py",
   "mimetype": "text/x-python",
   "name": "python",
   "nbconvert_exporter": "python",
   "pygments_lexer": "ipython3",
   "version": "3.7.3"
  }
 },
 "nbformat": 4,
 "nbformat_minor": 2
}
