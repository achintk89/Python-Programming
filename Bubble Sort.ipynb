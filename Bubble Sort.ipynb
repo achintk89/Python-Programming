{
 "cells": [
  {
   "cell_type": "code",
   "execution_count": 24,
   "metadata": {},
   "outputs": [
    {
     "name": "stdout",
     "output_type": "stream",
     "text": [
      "7\n",
      "1 2 5 4 6 3 8 \n",
      "1 2 3 4 5 6 8 "
     ]
    }
   ],
   "source": [
    "def bubbleSort(arr):\n",
    "    length=n\n",
    "    for i in range(length-1):\n",
    "        for j in range(length-1-i):\n",
    "            if arr[j] > arr[j+1]:\n",
    "                arr[j],arr[j+1] = arr[j+1], arr[j]\n",
    "                \n",
    "                \n",
    "n=int(input())\n",
    "arr=[int(x)for x in input().split()]\n",
    "bubbleSort(arr)\n",
    "for ele in arr:\n",
    "    print(ele, end = ' ')"
   ]
  }
 ],
 "metadata": {
  "kernelspec": {
   "display_name": "Python 3",
   "language": "python",
   "name": "python3"
  },
  "language_info": {
   "codemirror_mode": {
    "name": "ipython",
    "version": 3
   },
   "file_extension": ".py",
   "mimetype": "text/x-python",
   "name": "python",
   "nbconvert_exporter": "python",
   "pygments_lexer": "ipython3",
   "version": "3.7.3"
  }
 },
 "nbformat": 4,
 "nbformat_minor": 2
}
