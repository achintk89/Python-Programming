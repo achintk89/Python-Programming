{
 "cells": [
  {
   "cell_type": "code",
   "execution_count": null,
   "metadata": {},
   "outputs": [],
   "source": [
    "### First Method "
   ]
  },
  {
   "cell_type": "code",
   "execution_count": 1,
   "metadata": {},
   "outputs": [
    {
     "name": "stdout",
     "output_type": "stream",
     "text": [
      "121\n",
      "true\n"
     ]
    }
   ],
   "source": [
    "N = int(input())\n",
    "\n",
    "p=N\n",
    "\n",
    "reverse_N = 0\n",
    "\n",
    "while p !=0:\n",
    "    \n",
    "    reverse_N = (reverse_N * 10) + (p % 10)\n",
    "    \n",
    "    p = p//10\n",
    "\n",
    "if N == reverse_N:\n",
    "        \n",
    "        print(\"true\")\n",
    "        \n",
    "else:\n",
    "    print(\"false\")\n",
    "    \n"
   ]
  },
  {
   "cell_type": "code",
   "execution_count": null,
   "metadata": {},
   "outputs": [],
   "source": [
    "### Second Method Using Function"
   ]
  },
  {
   "cell_type": "code",
   "execution_count": 13,
   "metadata": {},
   "outputs": [
    {
     "name": "stdout",
     "output_type": "stream",
     "text": [
      "123\n",
      "false\n"
     ]
    }
   ],
   "source": [
    "def checkPalindrome(N):\n",
    "    p=N\n",
    "\n",
    "    reverse_N = 0\n",
    "\n",
    "    while p !=0:\n",
    "    \n",
    "        reverse_N = (reverse_N * 10) + (p % 10)\n",
    "    \n",
    "        p = p//10\n",
    "\n",
    "    if N == reverse_N:\n",
    "        \n",
    "            return N\n",
    "        \n",
    "   # else:\n",
    "        #print(\"false\")\n",
    "\t\t\n",
    "\n",
    "\n",
    "N = int(input())\n",
    "isPalindrome= checkPalindrome(N)\n",
    "if(isPalindrome):\n",
    "\tprint('true')\n",
    "else:\n",
    "\tprint('false')\n"
   ]
  }
 ],
 "metadata": {
  "kernelspec": {
   "display_name": "Python 3",
   "language": "python",
   "name": "python3"
  },
  "language_info": {
   "codemirror_mode": {
    "name": "ipython",
    "version": 3
   },
   "file_extension": ".py",
   "mimetype": "text/x-python",
   "name": "python",
   "nbconvert_exporter": "python",
   "pygments_lexer": "ipython3",
   "version": "3.7.3"
  }
 },
 "nbformat": 4,
 "nbformat_minor": 2
}
