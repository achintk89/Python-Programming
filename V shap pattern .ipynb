{
 "cells": [
  {
   "cell_type": "code",
   "execution_count": 2,
   "metadata": {},
   "outputs": [
    {
     "name": "stdout",
     "output_type": "stream",
     "text": [
      "4\n",
      "1      1\n",
      "12    21\n",
      "123  321\n",
      "12344321\n"
     ]
    }
   ],
   "source": [
    "n= int(input())\n",
    "i=1\n",
    "while i<=n:\n",
    "    j=1\n",
    "    while j<=i:\n",
    "        print (j, end=\"\")\n",
    "        j=j+1\n",
    "        \n",
    "    Spaces=1\n",
    "    while Spaces<=2*n-2*i:\n",
    "        print(' ',end=\"\")\n",
    "        Spaces=Spaces+1\n",
    "            \n",
    "    while j>1:\n",
    "        j=j-1\n",
    "        print(j,end=\"\")\n",
    "        \n",
    "    print()    \n",
    "    i=i+1\n",
    "    "
   ]
  }
 ],
 "metadata": {
  "kernelspec": {
   "display_name": "Python 3",
   "language": "python",
   "name": "python3"
  },
  "language_info": {
   "codemirror_mode": {
    "name": "ipython",
    "version": 3
   },
   "file_extension": ".py",
   "mimetype": "text/x-python",
   "name": "python",
   "nbconvert_exporter": "python",
   "pygments_lexer": "ipython3",
   "version": "3.7.3"
  }
 },
 "nbformat": 4,
 "nbformat_minor": 2
}
