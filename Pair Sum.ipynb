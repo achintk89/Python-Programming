{
 "cells": [
  {
   "cell_type": "code",
   "execution_count": null,
   "metadata": {},
   "outputs": [],
   "source": [
    "### First Method "
   ]
  },
  {
   "cell_type": "code",
   "execution_count": 3,
   "metadata": {},
   "outputs": [
    {
     "name": "stdout",
     "output_type": "stream",
     "text": [
      "9\n",
      "1 3 6 2 5 4 3 2 4\n",
      "7\n",
      "16\n",
      "34\n",
      "34\n",
      "25\n",
      "52\n",
      "43\n",
      "34\n"
     ]
    }
   ],
   "source": [
    "\n",
    "def printPairs(arr, n, sum): \n",
    "\n",
    "\tfor i in range(0, n ): \n",
    "\t\tfor j in range(i + 1, n ): \n",
    "\t\t\tif (arr[i] + arr[j] == sum): \n",
    "\t\t\t\tprint(arr[i],arr[j],sep = \"\") \n",
    "\n",
    "n = int(input()) \n",
    "arr = [int(x) for x in input().split()] \n",
    "sum = int(input())\n",
    "printPairs(arr, n, sum) \n",
    "\n"
   ]
  },
  {
   "cell_type": "code",
   "execution_count": null,
   "metadata": {},
   "outputs": [],
   "source": [
    "###Second Method "
   ]
  },
  {
   "cell_type": "code",
   "execution_count": null,
   "metadata": {},
   "outputs": [],
   "source": [
    "## Read input as specified in the question.\n",
    "## Print output as specified in the question.\n",
    "## to print the required list\n",
    "def sum(li1,m):\n",
    "  for i in range(0,len(li1)):\n",
    "    c=li1[i]\n",
    "    for j in range(i+1,len(li1)):\n",
    "      if c+li1[j]==m:\n",
    "        if c>li1[j]:\n",
    "          print(li1[j],c)\n",
    "          \n",
    "          \n",
    "        else:\n",
    "          print(c,li1[j])\n",
    "          \n",
    "n=int(input())\n",
    "li1=[int(x) for x in input().split()]\n",
    "m=int(input())\n",
    "sum(li1,m)"
   ]
  }
 ],
 "metadata": {
  "kernelspec": {
   "display_name": "Python 3",
   "language": "python",
   "name": "python3"
  },
  "language_info": {
   "codemirror_mode": {
    "name": "ipython",
    "version": 3
   },
   "file_extension": ".py",
   "mimetype": "text/x-python",
   "name": "python",
   "nbconvert_exporter": "python",
   "pygments_lexer": "ipython3",
   "version": "3.7.3"
  }
 },
 "nbformat": 4,
 "nbformat_minor": 2
}
