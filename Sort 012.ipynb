{
 "cells": [
  {
   "cell_type": "code",
   "execution_count": 14,
   "metadata": {},
   "outputs": [
    {
     "name": "stdout",
     "output_type": "stream",
     "text": [
      "7\n",
      "0 1 2 0 2 0 1\n",
      "0 0 0 1 1 2 2 "
     ]
    }
   ],
   "source": [
    "\n",
    "def sort012( a, arr_size): \n",
    "    lo = 0\n",
    "    hi = arr_size - 1\n",
    "    mid = 0\n",
    "    while mid <= hi: \n",
    "        if a[mid] == 0: \n",
    "            a[lo],a[mid] = a[mid],a[lo] \n",
    "            lo = lo + 1\n",
    "            mid = mid + 1\n",
    "        elif a[mid] == 1: \n",
    "            mid = mid + 1\n",
    "        else: \n",
    "            a[mid],a[hi] = a[hi],a[mid] \n",
    "            hi = hi - 1\n",
    "    return a \n",
    " \n",
    "def printArray( a): \n",
    "    for k in a:\n",
    "        print (k), \n",
    "n=int(input())\n",
    "arr = [int(x) for x in input().split()]\n",
    "arr_size = n \n",
    "arr = sort012( arr, arr_size)\n",
    "for ele in arr:\n",
    "    \n",
    "    print (ele,end=\" \") \n",
    "\n"
   ]
  }
 ],
 "metadata": {
  "kernelspec": {
   "display_name": "Python 3",
   "language": "python",
   "name": "python3"
  },
  "language_info": {
   "codemirror_mode": {
    "name": "ipython",
    "version": 3
   },
   "file_extension": ".py",
   "mimetype": "text/x-python",
   "name": "python",
   "nbconvert_exporter": "python",
   "pygments_lexer": "ipython3",
   "version": "3.7.3"
  }
 },
 "nbformat": 4,
 "nbformat_minor": 2
}
