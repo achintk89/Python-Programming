{
 "cells": [
  {
   "cell_type": "code",
   "execution_count": 2,
   "metadata": {},
   "outputs": [
    {
     "name": "stdout",
     "output_type": "stream",
     "text": [
      "7\n",
      "1 2 5 6 4 3 8\n",
      "1 2 3 4 5 6 8 "
     ]
    }
   ],
   "source": [
    "## Read input as specified in the question.\n",
    "## Print output as specified in the question.\n",
    "\n",
    "def insertionSort(arr): \n",
    "    length=n\n",
    "    for i in range(1, length): \n",
    "        j=i-1\n",
    "        temp = arr[i] \n",
    "        while j >= 0 and arr[j] > temp : \n",
    "                arr[j + 1] = arr[j] \n",
    "                j -= 1\n",
    "        arr[j + 1] = temp \n",
    "\n",
    "\n",
    "n=int(input())\n",
    "arr = [int(x) for x in input().split()] \n",
    "insertionSort(arr) \n",
    "for ele in arr: \n",
    "    print (ele,end=\" \") \n",
    "\n"
   ]
  }
 ],
 "metadata": {
  "kernelspec": {
   "display_name": "Python 3",
   "language": "python",
   "name": "python3"
  },
  "language_info": {
   "codemirror_mode": {
    "name": "ipython",
    "version": 3
   },
   "file_extension": ".py",
   "mimetype": "text/x-python",
   "name": "python",
   "nbconvert_exporter": "python",
   "pygments_lexer": "ipython3",
   "version": "3.7.3"
  }
 },
 "nbformat": 4,
 "nbformat_minor": 2
}
