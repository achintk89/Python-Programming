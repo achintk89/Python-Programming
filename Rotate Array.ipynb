{
 "cells": [
  {
   "cell_type": "code",
   "execution_count": 1,
   "metadata": {},
   "outputs": [
    {
     "name": "stdout",
     "output_type": "stream",
     "text": [
      "7\n",
      "1 2 3 4 5 6 7\n",
      "2\n",
      "3 4 5 6 7 1 2 "
     ]
    }
   ],
   "source": [
    "def rotateArray(arr, d): \n",
    "    output_list = [] \n",
    "    for i in range(d, len(arr)): \n",
    "        output_list.append(arr[i]) \n",
    "    for i in range(0, d):  \n",
    "        output_list.append(arr[i]) \n",
    "          \n",
    "    for i in output_list:\n",
    "        print(i,end=' ')\n",
    "N = int(input())\n",
    "arr = [int(x) for x in input().split()]\n",
    "d = int(input())\n",
    "rotateArray(arr,d) "
   ]
  }
 ],
 "metadata": {
  "kernelspec": {
   "display_name": "Python 3",
   "language": "python",
   "name": "python3"
  },
  "language_info": {
   "codemirror_mode": {
    "name": "ipython",
    "version": 3
   },
   "file_extension": ".py",
   "mimetype": "text/x-python",
   "name": "python",
   "nbconvert_exporter": "python",
   "pygments_lexer": "ipython3",
   "version": "3.7.3"
  }
 },
 "nbformat": 4,
 "nbformat_minor": 2
}
