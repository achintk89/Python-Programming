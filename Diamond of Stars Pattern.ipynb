{
 "cells": [
  {
   "cell_type": "code",
   "execution_count": 1,
   "metadata": {},
   "outputs": [
    {
     "name": "stdout",
     "output_type": "stream",
     "text": [
      "5\n",
      "  *\n",
      " ***\n",
      "*****\n",
      " ***\n",
      "  *\n",
      "   \n"
     ]
    }
   ],
   "source": [
    "n=int(input())\n",
    "n1=(n+1)/2\n",
    "n2=n1-1\n",
    "\n",
    "i=1\n",
    "while i<=n1:\n",
    "    spaces=1\n",
    "    while spaces<=n1-i:\n",
    "        print(\" \",end=\"\")\n",
    "        spaces=spaces+1\n",
    "    j=1\n",
    "    while j<=2*i-1:\n",
    "        print(\"*\", end=\"\")\n",
    "        j=j+1\n",
    "    print()\n",
    "    i=i+1\n",
    "\n",
    "k=n2\n",
    "while k>=0:\n",
    "    spaces=0\n",
    "    while spaces<n2-k+1:\n",
    "        print(\" \",end=\"\")\n",
    "        spaces=spaces+1\n",
    "    l=0\n",
    "    while l<2*k-1:\n",
    "        print(\"*\",end=\"\")\n",
    "        l=l+1\n",
    "    print()\n",
    "    k=k-1   "
   ]
  }
 ],
 "metadata": {
  "kernelspec": {
   "display_name": "Python 3",
   "language": "python",
   "name": "python3"
  },
  "language_info": {
   "codemirror_mode": {
    "name": "ipython",
    "version": 3
   },
   "file_extension": ".py",
   "mimetype": "text/x-python",
   "name": "python",
   "nbconvert_exporter": "python",
   "pygments_lexer": "ipython3",
   "version": "3.7.3"
  }
 },
 "nbformat": 4,
 "nbformat_minor": 2
}
