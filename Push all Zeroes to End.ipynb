{
 "cells": [
  {
   "cell_type": "code",
   "execution_count": null,
   "metadata": {},
   "outputs": [],
   "source": [
    "def move_zero(num_list):\n",
    "\n",
    "    a = [0 for i in range(num_list.count(0))]\n",
    "\n",
    "    x = [ i for i in num_list if i != 0]\n",
    "\n",
    "    x.extend(a)\n",
    "\n",
    "    return(x)\n",
    "\n",
    "\n",
    "n=int(input())\n",
    "arr=move_zero([int(x) for x in input().split()])\n",
    "for le in arr:\n",
    "    print(le,end=\" \")\n",
    "\n"
   ]
  }
 ],
 "metadata": {
  "kernelspec": {
   "display_name": "Python 3",
   "language": "python",
   "name": "python3"
  },
  "language_info": {
   "codemirror_mode": {
    "name": "ipython",
    "version": 3
   },
   "file_extension": ".py",
   "mimetype": "text/x-python",
   "name": "python",
   "nbconvert_exporter": "python",
   "pygments_lexer": "ipython3",
   "version": "3.7.3"
  }
 },
 "nbformat": 4,
 "nbformat_minor": 2
}
