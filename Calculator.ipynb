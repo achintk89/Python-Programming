{
 "cells": [
  {
   "cell_type": "code",
   "execution_count": 9,
   "metadata": {},
   "outputs": [
    {
     "name": "stdout",
     "output_type": "stream",
     "text": [
      "Enter choice(1/2/3/4/5/6):6\n",
      "Enter first number: 5\n",
      "Enter second number: 5\n"
     ]
    }
   ],
   "source": [
    "choice = input(\"Enter choice(1/2/3/4/5/6):\")\n",
    "\n",
    "num1 = int(input(\"Enter first number: \"))\n",
    "num2 = int(input(\"Enter second number: \"))\n",
    "\n",
    "if choice == '1':\n",
    "    sum= num1 + num2\n",
    "    print(sum)\n",
    "\n",
    "elif choice == '2':\n",
    "    sub= num1 - num2\n",
    "    print(sub)\n",
    "\n",
    "elif choice == '3':\n",
    "    multi= num1 * num2 \n",
    "    print(multi)\n",
    "\n",
    "elif choice == '4':\n",
    "    div= num1 / num2\n",
    "    print(div)\n",
    "\n",
    "elif choice == '5':\n",
    "    rem= num1 % num2\n",
    "    print(rem)\n",
    "\n",
    "elif choice == '6':\n",
    "    exit ()\n",
    "\n",
    "else: \n",
    "    print(\"Invalid input\")"
   ]
  },
  {
   "cell_type": "code",
   "execution_count": null,
   "metadata": {},
   "outputs": [],
   "source": [
    "## Read input as specified in the question.\n",
    "## Print output as specified in the question.\n",
    "## to work as a simple calulator:\n",
    "i=0\n",
    "while i<=7:\n",
    "  n=int(input())\n",
    "  if n==1:\n",
    "    n1=int(input())\n",
    "    n2=int(input())\n",
    "    sum=n1+n2\n",
    "    print(sum)\n",
    "  elif n==2:\n",
    "    n1=int(input())\n",
    "    n2=int(input())\n",
    "    difference=n1-n2\n",
    "    print(difference)\n",
    "  elif n==3:\n",
    "    n1=int(input())\n",
    "    n2=int(input())\n",
    "    product=n1*n2\n",
    "    print(product)\n",
    "  elif n==4:\n",
    "    n1=int(input())\n",
    "    n2=int(input())\n",
    "    quotient=n1//n2\n",
    "    print(quotient)\n",
    "  elif n==5:\n",
    "    n1=int(input())\n",
    "    n2=int(input())\n",
    "    remainder=n1%n2\n",
    "    print(remainder)\n",
    "  elif n==6:\n",
    "    break\n",
    "  else:\n",
    "    print(\"Invalid Operation\")\n",
    "  i=i+1  "
   ]
  }
 ],
 "metadata": {
  "kernelspec": {
   "display_name": "Python 3",
   "language": "python",
   "name": "python3"
  },
  "language_info": {
   "codemirror_mode": {
    "name": "ipython",
    "version": 3
   },
   "file_extension": ".py",
   "mimetype": "text/x-python",
   "name": "python",
   "nbconvert_exporter": "python",
   "pygments_lexer": "ipython3",
   "version": "3.7.3"
  }
 },
 "nbformat": 4,
 "nbformat_minor": 2
}
