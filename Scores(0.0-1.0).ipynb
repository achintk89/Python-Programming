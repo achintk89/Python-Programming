{
 "cells": [
  {
   "cell_type": "code",
   "execution_count": 1,
   "metadata": {},
   "outputs": [
    {
     "name": "stdout",
     "output_type": "stream",
     "text": [
      "Enter Score: 0.85\n",
      "B\n"
     ]
    }
   ],
   "source": [
    "score = float(input(\"Enter Score: \"))\n",
    "if score>=0.9:\n",
    "    print(\"A\")\n",
    "elif score>=0.8:\n",
    "    print(\"B\")\n",
    "elif score>=0.7:\n",
    "    print(\"C\")\n",
    "elif score>=0.6:\n",
    "    print(\"D\")\n",
    "elif score<0.6:\n",
    "    print(\"F\")\n",
    "elif 0.0<score >1.0:\n",
    "    print(\"Error\")\n",
    "exit()"
   ]
  }
 ],
 "metadata": {
  "kernelspec": {
   "display_name": "Python 3",
   "language": "python",
   "name": "python3"
  },
  "language_info": {
   "codemirror_mode": {
    "name": "ipython",
    "version": 3
   },
   "file_extension": ".py",
   "mimetype": "text/x-python",
   "name": "python",
   "nbconvert_exporter": "python",
   "pygments_lexer": "ipython3",
   "version": "3.7.3"
  }
 },
 "nbformat": 4,
 "nbformat_minor": 2
}
