{
 "cells": [
  {
   "cell_type": "code",
   "execution_count": null,
   "metadata": {},
   "outputs": [],
   "source": [
    "i=4\n",
    "d=4.0\n",
    "s='HackerRank'\n",
    "a=int(input())\n",
    "b=float(input())\n",
    "c=str(input())\n",
    "print(a+i,\"\\n\")\n",
    "print(b+d,\"\\n\")\n",
    "print(c+s,\"\\n\")"
   ]
  }
 ],
 "metadata": {
  "kernelspec": {
   "display_name": "Python 3",
   "language": "python",
   "name": "python3"
  }
 },
 "nbformat": 4,
 "nbformat_minor": 2
}
