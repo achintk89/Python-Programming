{
 "cells": [
  {
   "cell_type": "code",
   "execution_count": null,
   "metadata": {},
   "outputs": [],
   "source": [
    "#### First Method Without Function"
   ]
  },
  {
   "cell_type": "code",
   "execution_count": null,
   "metadata": {},
   "outputs": [],
   "source": [
    "n=int(input())\n",
    "arr=[int(x) for x in input().split()]\n",
    "\n",
    "j = -1\n",
    "for i in range(n):\n",
    "  if arr[i] < 1:\n",
    "    j = j + 1\n",
    "    arr[i], arr[j] = arr[j], arr[i] \n",
    "\n",
    "print(*arr)"
   ]
  },
  {
   "cell_type": "code",
   "execution_count": null,
   "metadata": {},
   "outputs": [],
   "source": [
    "### Second Method With Function"
   ]
  },
  {
   "cell_type": "code",
   "execution_count": null,
   "metadata": {},
   "outputs": [],
   "source": [
    "def sort(arr, size):\n",
    "    left=0\n",
    "    right = size-1\n",
    "\t\n",
    "    while left < right: \n",
    "\t\t\n",
    "        while arr[left] == 0 and left < right: \n",
    "            left += 1\n",
    "        while arr[right] == 1 and left < right:\n",
    "            right -= 1\n",
    "        if left < right:\n",
    "            arr[left] = 0\n",
    "            arr[right] = 1\n",
    "            left+= 1\n",
    "            right-= 1\n",
    "    return arr \n",
    "n=int(input())\n",
    "arr=[int(x) for x in input().split()]\n",
    "arr_size = len(arr) \n",
    "sort(arr, arr_size)\n",
    "for i in arr:\n",
    "    print(i,end=' ')"
   ]
  }
 ],
 "metadata": {
  "kernelspec": {
   "display_name": "Python 3",
   "language": "python",
   "name": "python3"
  },
  "language_info": {
   "codemirror_mode": {
    "name": "ipython",
    "version": 3
   },
   "file_extension": ".py",
   "mimetype": "text/x-python",
   "name": "python",
   "nbconvert_exporter": "python",
   "pygments_lexer": "ipython3",
   "version": "3.7.3"
  }
 },
 "nbformat": 4,
 "nbformat_minor": 2
}
